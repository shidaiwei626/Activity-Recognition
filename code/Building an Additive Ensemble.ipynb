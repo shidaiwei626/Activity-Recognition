{
 "cells": [
  {
   "cell_type": "code",
   "execution_count": 1,
   "metadata": {},
   "outputs": [],
   "source": [
    "import pandas as pd\n",
    "import numpy as np; np.random.seed(13)\n",
    "\n",
    "train_df = pd.read_csv('../input/train.csv')\n",
    "X, y = train_df.iloc[:, 0:len(train_df.columns) - 1], train_df.iloc[:, -1]\n",
    "\n",
    "test_df = pd.read_csv('../input/test.csv')\n",
    "X_test, y_test = test_df.iloc[:, 0:len(test_df.columns) -1], test_df.iloc[:, -1]"
   ]
  },
  {
   "cell_type": "code",
   "execution_count": 4,
   "metadata": {},
   "outputs": [
    {
     "name": "stdout",
     "output_type": "stream",
     "text": [
      "Best parameter set found:\n",
      "{'hidden_layer_sizes': (50,)}\n",
      "Detailed grid scores:\n",
      "0.913 (+/-0.008) for {'hidden_layer_sizes': (50,)}\n",
      "\n",
      "0.907 (+/-0.034) for {'hidden_layer_sizes': (100,)}\n",
      "\n",
      "0.909 (+/-0.016) for {'hidden_layer_sizes': (200,)}\n",
      "\n"
     ]
    }
   ],
   "source": [
    "from sklearn.model_selection import GridSearchCV\n",
    "\n",
    "from sklearn.neural_network import MLPClassifier\n",
    "\n",
    "parameters = {\n",
    "    'hidden_layer_sizes': [(50,), (100,), (200,)],\n",
    "}\n",
    "\n",
    "selector = GridSearchCV(MLPClassifier(), parameters, scoring='accuracy') # we only care about accuracy here\n",
    "selector.fit(X, y)\n",
    "\n",
    "print('Best parameter set found:')\n",
    "print(selector.best_params_)\n",
    "print('Detailed grid scores:')\n",
    "means = selector.cv_results_['mean_test_score']\n",
    "stds = selector.cv_results_['std_test_score']\n",
    "for mean, std, params in zip(means, stds, selector.cv_results_['params']):\n",
    "    print('%0.3f (+/-%0.03f) for %r' % (mean, std * 2, params))\n",
    "    print()"
   ]
  },
  {
   "cell_type": "code",
   "execution_count": 45,
   "metadata": {},
   "outputs": [],
   "source": [
    "from sklearn.svm import SVC\n",
    "\n",
    "svc = SVC(kernel='linear', C=1, probability=True).fit(X, y)\n",
    "mlp = MLPClassifier(hidden_layer_sizes=(50,)).fit(X, y)"
   ]
  },
  {
   "cell_type": "code",
   "execution_count": 47,
   "metadata": {},
   "outputs": [
    {
     "data": {
      "text/plain": [
       "{0: 'LAYING',\n",
       " 1: 'SITTING',\n",
       " 2: 'STANDING',\n",
       " 3: 'WALKING',\n",
       " 4: 'WALKING_DOWNSTAIRS',\n",
       " 5: 'WALKING_UPSTAIRS'}"
      ]
     },
     "execution_count": 47,
     "metadata": {},
     "output_type": "execute_result"
    }
   ],
   "source": [
    "class_dict = {i: svc.classes_[i] for i in range(6)}\n",
    "class_dict"
   ]
  },
  {
   "cell_type": "code",
   "execution_count": 48,
   "metadata": {},
   "outputs": [],
   "source": [
    "def get_int_pred(prob_prediction):\n",
    "    return sum(prob_prediction[i] * i for i in range(6))\n",
    "\n",
    "svc_int_pred = np.apply_along_axis(get_int_pred, 1, svc.predict_proba(X_test))\n",
    "mlp_int_pred = np.apply_along_axis(get_int_pred, 1, mlp.predict_proba(X_test))"
   ]
  },
  {
   "cell_type": "code",
   "execution_count": 49,
   "metadata": {},
   "outputs": [
    {
     "data": {
      "text/plain": [
       "array([ 2.00002583,  1.97060413,  1.88881092, ...,  4.99688445,\n",
       "        4.99259536,  4.91267618])"
      ]
     },
     "execution_count": 49,
     "metadata": {},
     "output_type": "execute_result"
    }
   ],
   "source": [
    "svc_int_pred"
   ]
  },
  {
   "cell_type": "code",
   "execution_count": 50,
   "metadata": {},
   "outputs": [
    {
     "data": {
      "text/plain": [
       "array([ 1.99981   ,  1.95034156,  1.99220073, ...,  4.99648951,\n",
       "        4.98526921,  4.82132932])"
      ]
     },
     "execution_count": 50,
     "metadata": {},
     "output_type": "execute_result"
    }
   ],
   "source": [
    "mlp_int_pred"
   ]
  },
  {
   "cell_type": "code",
   "execution_count": 82,
   "metadata": {},
   "outputs": [
    {
     "data": {
      "text/plain": [
       "array([ 2.00002583,  1.97060413,  1.88881092, ...,  4.99688445,\n",
       "        4.99259536,  4.91267618])"
      ]
     },
     "execution_count": 82,
     "metadata": {},
     "output_type": "execute_result"
    }
   ],
   "source": [
    "weight = 1\n",
    "\n",
    "ensemble_int_pred = weight * svc_int_pred + (1 - weight) * mlp_int_pred\n",
    "ensemble_int_pred"
   ]
  },
  {
   "cell_type": "code",
   "execution_count": 83,
   "metadata": {},
   "outputs": [
    {
     "data": {
      "text/plain": [
       "array([ 2.,  2.,  2., ...,  5.,  5.,  5.])"
      ]
     },
     "execution_count": 83,
     "metadata": {},
     "output_type": "execute_result"
    }
   ],
   "source": [
    "np.round_(ensemble_int_pred)"
   ]
  },
  {
   "cell_type": "code",
   "execution_count": 84,
   "metadata": {},
   "outputs": [
    {
     "data": {
      "text/plain": [
       "array(['STANDING', 'STANDING', 'STANDING', ..., 'WALKING_UPSTAIRS',\n",
       "       'WALKING_UPSTAIRS', 'WALKING_UPSTAIRS'],\n",
       "      dtype='<U18')"
      ]
     },
     "execution_count": 84,
     "metadata": {},
     "output_type": "execute_result"
    }
   ],
   "source": [
    "ensemble_pred = np.vectorize(class_dict.get)(np.round_(ensemble_int_pred))\n",
    "ensemble_pred"
   ]
  },
  {
   "cell_type": "code",
   "execution_count": 85,
   "metadata": {},
   "outputs": [
    {
     "name": "stdout",
     "output_type": "stream",
     "text": [
      "Accuracy: 0.957583983712\n"
     ]
    }
   ],
   "source": [
    "from sklearn.metrics import accuracy_score\n",
    "\n",
    "print('Accuracy:', accuracy_score(ensemble_pred, y_test))"
   ]
  },
  {
   "cell_type": "code",
   "execution_count": null,
   "metadata": {},
   "outputs": [],
   "source": []
  }
 ],
 "metadata": {
  "kernelspec": {
   "display_name": "Python 3",
   "language": "python",
   "name": "python3"
  },
  "language_info": {
   "codemirror_mode": {
    "name": "ipython",
    "version": 3
   },
   "file_extension": ".py",
   "mimetype": "text/x-python",
   "name": "python",
   "nbconvert_exporter": "python",
   "pygments_lexer": "ipython3",
   "version": "3.6.0"
  }
 },
 "nbformat": 4,
 "nbformat_minor": 2
}
